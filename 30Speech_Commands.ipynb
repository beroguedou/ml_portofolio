{
 "cells": [
  {
   "cell_type": "markdown",
   "metadata": {},
   "source": [
    "# 30 Speechs Audio Commands Recognition"
   ]
  },
  {
   "cell_type": "code",
   "execution_count": null,
   "metadata": {},
   "outputs": [],
   "source": [
    "import os\n",
    "import numpy as np\n",
    "import pandas as pd\n",
    "from sklearn.model_selection import train_test_split\n",
    "import librosa\n",
    "import tensorflow as tf\n",
    "import tensorflow.keras as keras\n",
    "from my_classes import AudioDataGenerator"
   ]
  },
  {
   "cell_type": "code",
   "execution_count": null,
   "metadata": {},
   "outputs": [],
   "source": [
    "tf.test.is_gpu_available()"
   ]
  },
  {
   "cell_type": "code",
   "execution_count": null,
   "metadata": {},
   "outputs": [],
   "source": [
    "%%time\n",
    "path = \"C:\\\\Users\\\\Beranger\\\\Desktop\\\\Datasets\\\\Audio\\\\Speech_Commands\\\\\"\n",
    "\n",
    "all_classes = ['bed','bird','cat','dog','down','eight','five','four','go','happy','house',\n",
    "         'left','marvin','nine','no','off','on','one','right','seven','sheila','six',\n",
    "         'stop','three','tree','two','up','wow','yes','zero']\n",
    "all_files = []\n",
    "labels = []\n",
    "\n",
    "for c in all_classes:\n",
    "    all_files = all_files + os.listdir(path+c)\n",
    "    for file in os.listdir(path+c):\n",
    "\n",
    "        labels.append((file,c))\n",
    "file_labels = dict(labels)"
   ]
  },
  {
   "cell_type": "code",
   "execution_count": null,
   "metadata": {
    "scrolled": true
   },
   "outputs": [],
   "source": [
    "DF = pd.DataFrame(labels)\n",
    "train_files, test_files, train_labels, test_labels = train_test_split(DF[0] , DF[1], test_size=0.20, random_state=42)\n",
    "valid_files, test_files, valid_labels, test_labels = train_test_split(test_files , test_labels, test_size=0.50, random_state=42)\n",
    "\n",
    "train_files = list(train_files.values)\n",
    "valid_files = list(valid_files.values)\n",
    "test_files = list(test_files.values)"
   ]
  },
  {
   "cell_type": "code",
   "execution_count": null,
   "metadata": {},
   "outputs": [],
   "source": [
    "dim_spec = (20, 44)\n",
    "\n",
    "train_gen = AudioDataGenerator(list_IDs=train_files,\n",
    "    all_classes=all_classes,\n",
    "    base_path=path,\n",
    "    dim_spec=dim_spec,\n",
    "    dim_2=(1, 8000),\n",
    "    labels=file_labels,\n",
    "    option = 'mfcc',                                     \n",
    "    batch_size=32,\n",
    "    shuffle=True,\n",
    "    n_channels=1)\n",
    "\n",
    "valid_gen = AudioDataGenerator(list_IDs=valid_files,\n",
    "    all_classes=all_classes,\n",
    "    base_path=path,\n",
    "    dim_spec=dim_spec,\n",
    "    dim_2=(1, 8000),\n",
    "    labels=file_labels,\n",
    "    option='mfcc',\n",
    "    batch_size=32,\n",
    "    shuffle=True,\n",
    "    n_channels=1)\n",
    "\n",
    "test_gen = AudioDataGenerator(list_IDs=test_files,\n",
    "    all_classes=all_classes,\n",
    "    base_path=path,\n",
    "    dim_spec=dim_spec,\n",
    "    dim_2=(1, 8000),\n",
    "    labels=file_labels,\n",
    "    option='mfcc',\n",
    "    batch_size=32,\n",
    "    shuffle=True,\n",
    "    n_channels=1)"
   ]
  },
  {
   "cell_type": "code",
   "execution_count": 29,
   "metadata": {
    "scrolled": false
   },
   "outputs": [
    {
     "data": {
      "text/plain": [
       "(32, 1, 8000)"
      ]
     },
     "execution_count": 29,
     "metadata": {},
     "output_type": "execute_result"
    }
   ],
   "source": [
    "valid_gen[0][0][1].shape"
   ]
  },
  {
   "cell_type": "markdown",
   "metadata": {},
   "source": [
    "# Machine Learning"
   ]
  },
  {
   "cell_type": "code",
   "execution_count": 43,
   "metadata": {},
   "outputs": [],
   "source": [
    "from keras.models import Model, Input\n",
    "from keras.layers import Dense, Conv2D, LSTM, BatchNormalization, Flatten, Lambda, Conv1D, MaxPool1D, Reshape, Bidirectional\n",
    "from keras.layers import Reshape, MaxPooling2D, AveragePooling1D, Dropout, Concatenate, GRU, Permute, GlobalMaxPool1D\n",
    "from keras.callbacks import ModelCheckpoint, EarlyStopping\n",
    "\n",
    "callbacks_list = [EarlyStopping(monitor='val_acc',\n",
    "                                patience=5),\n",
    "                  ModelCheckpoint(filepath='audio_best_model.h5',\n",
    "                                  monitor='val_loss',\n",
    "                                  save_best_only=True)]\n",
    "\n",
    "def build_model():\n",
    "    # First branch\n",
    "    input_mfcc = Input(shape=(*dim_spec, 1))\n",
    "    f = Conv2D(64, 2, activation='relu')(input_mfcc)\n",
    "    f = BatchNormalization(axis=2)(f)\n",
    "    f = Dropout(0.2)(f)\n",
    "    \n",
    "    f = Conv2D(64, 2, activation='relu')(f)\n",
    "    f = BatchNormalization(axis=2)(f)\n",
    "    f = Dropout(0.2)(f)\n",
    "    \n",
    "    f = Permute((2, 1, 3))(f)\n",
    "    dim_1 = int(f.shape[1])\n",
    "    dim_2 = int(f.shape[2])\n",
    "    dim_3 = int(f.shape[3])\n",
    "    f = Reshape((dim_1, dim_2*dim_3))(f)\n",
    "    \n",
    "    f = Bidirectional(GRU(32, return_sequences=True))(f)\n",
    "    f = BatchNormalization()(f)\n",
    "    f = Dropout(0.2)(f)\n",
    "    \n",
    "    f = Bidirectional(GRU(32, return_sequences=False))(f)\n",
    "    f = BatchNormalization()(f)\n",
    "    f = Dropout(0.2)(f)\n",
    "    \n",
    "    #f = Flatten()(f)\n",
    "    \n",
    "    # Second branch\n",
    "    input_wave = Input(shape=(1, 8000))\n",
    "                \n",
    "    g = Conv1D(8, 13, activation='relu', data_format='channels_first', name='Conv_bloc_1')(input_wave)\n",
    "    g = MaxPool1D(3)(g)\n",
    "    g = BatchNormalization()(g)\n",
    "    g = Dropout(0.3)(g)\n",
    "    \n",
    "    g = Conv1D(16, 11, activation='relu', data_format='channels_first', name='Conv_bloc_2')(g)\n",
    "    g = MaxPool1D(3)(g)\n",
    "    g = BatchNormalization()(g)\n",
    "    g = Dropout(0.3)(g)\n",
    "    \n",
    "    g = Conv1D(32, 9, activation='relu', data_format='channels_first', name='Conv_bloc_3')(g)\n",
    "    g = MaxPool1D(3)(g)\n",
    "    g = BatchNormalization()(g)\n",
    "    g = Dropout(0.3)(g)   \n",
    "    \n",
    "    g = Bidirectional(GRU(64, return_sequences=True))(g)\n",
    "    g = BatchNormalization()(g)\n",
    "    \n",
    "    g = Bidirectional(GRU(64, return_sequences=False))(g)\n",
    "    g = BatchNormalization()(g)\n",
    "    \n",
    "    h = Concatenate()([f, g])\n",
    "    \n",
    "    # Joining of the 02 branches                \n",
    "    outputs = Dense(30, activation='softmax')(h)\n",
    "    model = Model([input_mfcc, input_wave], outputs)\n",
    "    model.compile(loss='categorical_crossentropy', optimizer='adam', metrics=['accuracy'])\n",
    "    print(model.summary())\n",
    "    return model"
   ]
  },
  {
   "cell_type": "code",
   "execution_count": 44,
   "metadata": {},
   "outputs": [
    {
     "name": "stdout",
     "output_type": "stream",
     "text": [
      "__________________________________________________________________________________________________\n",
      "Layer (type)                    Output Shape         Param #     Connected to                     \n",
      "==================================================================================================\n",
      "input_14 (InputLayer)           (None, 1, 8000)      0                                            \n",
      "__________________________________________________________________________________________________\n",
      "Conv_bloc_1 (Conv1D)            (None, 8, 7988)      112         input_14[0][0]                   \n",
      "__________________________________________________________________________________________________\n",
      "input_13 (InputLayer)           (None, 20, 44, 1)    0                                            \n",
      "__________________________________________________________________________________________________\n",
      "max_pooling1d_19 (MaxPooling1D) (None, 2, 7988)      0           Conv_bloc_1[0][0]                \n",
      "__________________________________________________________________________________________________\n",
      "conv2d_13 (Conv2D)              (None, 19, 43, 64)   320         input_13[0][0]                   \n",
      "__________________________________________________________________________________________________\n",
      "batch_normalization_55 (BatchNo (None, 2, 7988)      31952       max_pooling1d_19[0][0]           \n",
      "__________________________________________________________________________________________________\n",
      "batch_normalization_51 (BatchNo (None, 19, 43, 64)   172         conv2d_13[0][0]                  \n",
      "__________________________________________________________________________________________________\n",
      "dropout_47 (Dropout)            (None, 2, 7988)      0           batch_normalization_55[0][0]     \n",
      "__________________________________________________________________________________________________\n",
      "dropout_43 (Dropout)            (None, 19, 43, 64)   0           batch_normalization_51[0][0]     \n",
      "__________________________________________________________________________________________________\n",
      "Conv_bloc_2 (Conv1D)            (None, 16, 7978)     368         dropout_47[0][0]                 \n",
      "__________________________________________________________________________________________________\n",
      "conv2d_14 (Conv2D)              (None, 18, 42, 64)   16448       dropout_43[0][0]                 \n",
      "__________________________________________________________________________________________________\n",
      "max_pooling1d_20 (MaxPooling1D) (None, 5, 7978)      0           Conv_bloc_2[0][0]                \n",
      "__________________________________________________________________________________________________\n",
      "batch_normalization_52 (BatchNo (None, 18, 42, 64)   168         conv2d_14[0][0]                  \n",
      "__________________________________________________________________________________________________\n",
      "batch_normalization_56 (BatchNo (None, 5, 7978)      31912       max_pooling1d_20[0][0]           \n",
      "__________________________________________________________________________________________________\n",
      "dropout_44 (Dropout)            (None, 18, 42, 64)   0           batch_normalization_52[0][0]     \n",
      "__________________________________________________________________________________________________\n",
      "dropout_48 (Dropout)            (None, 5, 7978)      0           batch_normalization_56[0][0]     \n",
      "__________________________________________________________________________________________________\n",
      "permute_7 (Permute)             (None, 42, 18, 64)   0           dropout_44[0][0]                 \n",
      "__________________________________________________________________________________________________\n",
      "Conv_bloc_3 (Conv1D)            (None, 32, 7970)     1472        dropout_48[0][0]                 \n",
      "__________________________________________________________________________________________________\n",
      "reshape_7 (Reshape)             (None, 42, 1152)     0           permute_7[0][0]                  \n",
      "__________________________________________________________________________________________________\n",
      "max_pooling1d_21 (MaxPooling1D) (None, 10, 7970)     0           Conv_bloc_3[0][0]                \n",
      "__________________________________________________________________________________________________\n",
      "bidirectional_2 (Bidirectional) (None, 42, 64)       227520      reshape_7[0][0]                  \n",
      "__________________________________________________________________________________________________\n",
      "batch_normalization_57 (BatchNo (None, 10, 7970)     31880       max_pooling1d_21[0][0]           \n",
      "__________________________________________________________________________________________________\n",
      "batch_normalization_53 (BatchNo (None, 42, 64)       256         bidirectional_2[0][0]            \n",
      "__________________________________________________________________________________________________\n",
      "dropout_49 (Dropout)            (None, 10, 7970)     0           batch_normalization_57[0][0]     \n",
      "__________________________________________________________________________________________________\n",
      "dropout_45 (Dropout)            (None, 42, 64)       0           batch_normalization_53[0][0]     \n",
      "__________________________________________________________________________________________________\n",
      "bidirectional_4 (Bidirectional) (None, 10, 128)      3085440     dropout_49[0][0]                 \n",
      "__________________________________________________________________________________________________\n",
      "bidirectional_3 (Bidirectional) (None, 64)           18624       dropout_45[0][0]                 \n",
      "__________________________________________________________________________________________________\n",
      "batch_normalization_58 (BatchNo (None, 10, 128)      512         bidirectional_4[0][0]            \n",
      "__________________________________________________________________________________________________\n",
      "batch_normalization_54 (BatchNo (None, 64)           256         bidirectional_3[0][0]            \n",
      "__________________________________________________________________________________________________\n",
      "bidirectional_5 (Bidirectional) (None, 128)          74112       batch_normalization_58[0][0]     \n",
      "__________________________________________________________________________________________________\n",
      "dropout_46 (Dropout)            (None, 64)           0           batch_normalization_54[0][0]     \n",
      "__________________________________________________________________________________________________\n",
      "batch_normalization_59 (BatchNo (None, 128)          512         bidirectional_5[0][0]            \n",
      "__________________________________________________________________________________________________\n",
      "concatenate_7 (Concatenate)     (None, 192)          0           dropout_46[0][0]                 \n",
      "                                                                 batch_normalization_59[0][0]     \n",
      "__________________________________________________________________________________________________\n",
      "dense_3 (Dense)                 (None, 30)           5790        concatenate_7[0][0]              \n",
      "==================================================================================================\n",
      "Total params: 3,527,826\n",
      "Trainable params: 3,479,016\n",
      "Non-trainable params: 48,810\n",
      "__________________________________________________________________________________________________\n",
      "None\n"
     ]
    }
   ],
   "source": [
    "model = build_model()"
   ]
  },
  {
   "cell_type": "code",
   "execution_count": 45,
   "metadata": {
    "scrolled": false
   },
   "outputs": [
    {
     "name": "stdout",
     "output_type": "stream",
     "text": [
      "Epoch 1/200\n",
      "1618/1618 [==============================] - 446s 276ms/step - loss: 1.3116 - acc: 0.6343 - val_loss: 0.6795 - val_acc: 0.8035\n",
      "Epoch 2/200\n",
      "1618/1618 [==============================] - 441s 273ms/step - loss: 0.4446 - acc: 0.8749 - val_loss: 0.3897 - val_acc: 0.8917\n",
      "Epoch 3/200\n",
      "1618/1618 [==============================] - 442s 273ms/step - loss: 0.3211 - acc: 0.9095 - val_loss: 0.2909 - val_acc: 0.9205\n",
      "Epoch 4/200\n",
      "1618/1618 [==============================] - 472s 292ms/step - loss: 0.2661 - acc: 0.9242 - val_loss: 0.2101 - val_acc: 0.9411\n",
      "Epoch 5/200\n",
      "1618/1618 [==============================] - 459s 284ms/step - loss: 0.2307 - acc: 0.9335 - val_loss: 0.1996 - val_acc: 0.9423\n",
      "Epoch 6/200\n",
      "1618/1618 [==============================] - 443s 274ms/step - loss: 0.2000 - acc: 0.9435 - val_loss: 0.1951 - val_acc: 0.9463\n",
      "Epoch 7/200\n",
      "1618/1618 [==============================] - 442s 273ms/step - loss: 0.1824 - acc: 0.9483 - val_loss: 0.1880 - val_acc: 0.9500\n",
      "Epoch 8/200\n",
      "1618/1618 [==============================] - 443s 274ms/step - loss: 0.1674 - acc: 0.9513 - val_loss: 0.1900 - val_acc: 0.9491\n",
      "Epoch 9/200\n",
      "1618/1618 [==============================] - 445s 275ms/step - loss: 0.1556 - acc: 0.9552 - val_loss: 0.1711 - val_acc: 0.9542\n",
      "Epoch 10/200\n",
      "1618/1618 [==============================] - 444s 274ms/step - loss: 0.1439 - acc: 0.9590 - val_loss: 0.1793 - val_acc: 0.9502\n",
      "Epoch 11/200\n",
      "1618/1618 [==============================] - 444s 275ms/step - loss: 0.1342 - acc: 0.9622 - val_loss: 0.1761 - val_acc: 0.9539\n",
      "Epoch 12/200\n",
      "1618/1618 [==============================] - 446s 276ms/step - loss: 0.1239 - acc: 0.9643 - val_loss: 0.1714 - val_acc: 0.9542\n",
      "Epoch 13/200\n",
      "1618/1618 [==============================] - 446s 276ms/step - loss: 0.1218 - acc: 0.9647 - val_loss: 0.1714 - val_acc: 0.9553\n",
      "Epoch 14/200\n",
      "1618/1618 [==============================] - 445s 275ms/step - loss: 0.1166 - acc: 0.9661 - val_loss: 0.1611 - val_acc: 0.9576\n",
      "Epoch 15/200\n",
      "1618/1618 [==============================] - 446s 276ms/step - loss: 0.1071 - acc: 0.9688 - val_loss: 0.1700 - val_acc: 0.9576\n",
      "Epoch 16/200\n",
      "1618/1618 [==============================] - 447s 276ms/step - loss: 0.1036 - acc: 0.9704 - val_loss: 0.1639 - val_acc: 0.9610\n",
      "Epoch 17/200\n",
      "1618/1618 [==============================] - 448s 277ms/step - loss: 0.1037 - acc: 0.9693 - val_loss: 0.1670 - val_acc: 0.9606\n",
      "Epoch 18/200\n",
      "1618/1618 [==============================] - 447s 276ms/step - loss: 0.0964 - acc: 0.9706 - val_loss: 0.1644 - val_acc: 0.9584\n",
      "Epoch 19/200\n",
      "1618/1618 [==============================] - 445s 275ms/step - loss: 0.0913 - acc: 0.9725 - val_loss: 0.1610 - val_acc: 0.9601\n",
      "Epoch 20/200\n",
      "1618/1618 [==============================] - 448s 277ms/step - loss: 0.0918 - acc: 0.9729 - val_loss: 0.1795 - val_acc: 0.9558\n",
      "Epoch 21/200\n",
      "1618/1618 [==============================] - 446s 276ms/step - loss: 0.0888 - acc: 0.9737 - val_loss: 0.1699 - val_acc: 0.9582\n",
      "Wall time: 2h 36min 41s\n"
     ]
    }
   ],
   "source": [
    "%%time\n",
    "history = model.fit_generator(generator=train_gen,\n",
    "                              validation_data=valid_gen,\n",
    "                              steps_per_epoch=1618,\n",
    "                              epochs=200,\n",
    "                              validation_steps=202,\n",
    "                              callbacks=callbacks_list)#,\n",
    "                    #use_multiprocessing=True,\n",
    "                    #workers=4)"
   ]
  },
  {
   "cell_type": "code",
   "execution_count": 50,
   "metadata": {},
   "outputs": [],
   "source": [
    "# Load the best model\n",
    "saved_model_path = os.path.join(os.getcwd(), 'audio_best_model.h5')\n",
    "model = keras.models.load_model(saved_model_path)"
   ]
  },
  {
   "cell_type": "code",
   "execution_count": 51,
   "metadata": {},
   "outputs": [
    {
     "name": "stdout",
     "output_type": "stream",
     "text": [
      "202/202 [==============================] - 28s 138ms/step - loss: 0.1776 - acc: 0.9561\n"
     ]
    },
    {
     "data": {
      "text/plain": [
       "[0.17761864562754176, 0.95606434]"
      ]
     },
     "execution_count": 51,
     "metadata": {},
     "output_type": "execute_result"
    }
   ],
   "source": [
    "# Evaluation on test set to be more confident on our model.\n",
    "model.evaluate_generator(test_gen, steps=202, verbose=1)"
   ]
  },
  {
   "cell_type": "code",
   "execution_count": null,
   "metadata": {},
   "outputs": [],
   "source": [
    "#librosa.load(\"C:\\\\Users\\\\Beranger\\\\Desktop\\\\Datasets\\\\Audio\\\\Speech_Commands\\\\bird\\\\0a9f9af7_nohash_0.wav\")"
   ]
  },
  {
   "cell_type": "code",
   "execution_count": 83,
   "metadata": {},
   "outputs": [],
   "source": [
    "dim_spec=(20, 44)\n",
    "n_channels=1\n",
    "n_fft=2048\n",
    "hop_length=512\n",
    "power=2.0\n",
    "ref_log_scal=1\n",
    "n_mfcc=20\n",
    "\n",
    "def wave2mfcc(path_wav):\n",
    "    wave, srate = librosa.load(path_wav, duration=2, mono=True, sr=None)\n",
    "        \n",
    "    # We create the mfcc\n",
    "    mfccs = librosa.feature.mfcc(y=wave, sr=samplerate, n_fft=n_fft, hop_length=hop_length,\n",
    "                                    power=power, n_mels=20) # a changer\n",
    "        \n",
    "    wave = librosa.resample(wave, srate, 8000)\n",
    "    \n",
    "    return  mfccs, wave\n",
    "    \n",
    "\n",
    "def predict(inputs, classes=all_classes):\n",
    "    mat, audio= inputs\n",
    "    if mat.shape[1] < 44:\n",
    "        mat = np.array(np.pad(mat, ((0,0), (0, 44 - mat.shape[1])),'constant', constant_values= 0))\n",
    "              \n",
    "    \n",
    "    \n",
    "    prob=model.predict([ mat.reshape(1, 20, 44, 1), audio.reshape(1, 1,8000)])\n",
    "    index = np.argmax(prob[0])\n",
    "    return classes[index]\n"
   ]
  },
  {
   "cell_type": "code",
   "execution_count": 141,
   "metadata": {},
   "outputs": [
    {
     "name": "stdout",
     "output_type": "stream",
     "text": [
      "start\n",
      "end\n"
     ]
    }
   ],
   "source": [
    "import sounddevice as sd\n",
    "import soundfile as sf\n",
    "\n",
    "samplerate = 16000\n",
    "duration = 1 # seconds\n",
    "filename = 'file.wav'\n",
    "print(\"start\")\n",
    "mydata = sd.rec(int(samplerate*duration), samplerate=samplerate,\n",
    "               channels=1, blocking=True)\n",
    "print(\"end\")\n",
    "\n",
    "sd.wait()\n",
    "sf.write(filename, mydata, samplerate)\n"
   ]
  },
  {
   "cell_type": "code",
   "execution_count": 142,
   "metadata": {},
   "outputs": [
    {
     "data": {
      "text/html": [
       "\n",
       "                <audio  controls=\"controls\" >\n",
       "                    <source src=\"data:audio/wav;base64,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\" type=\"audio/wav\" />\n",
       "                    Your browser does not support the audio element.\n",
       "                </audio>\n",
       "              "
      ],
      "text/plain": [
       "<IPython.lib.display.Audio object>"
      ]
     },
     "execution_count": 142,
     "metadata": {},
     "output_type": "execute_result"
    }
   ],
   "source": [
    "import IPython.display as ipd\n",
    "filepath = os.path.join(os.getcwd(), 'file.wav')\n",
    "\n",
    "# reading\n",
    "samples, sample_rate = librosa.load(filepath, sr=samplerate)\n",
    "samples = librosa.resample(samples, sample_rate, 8000)\n",
    "ipd.Audio(samples, rate=8000)"
   ]
  },
  {
   "cell_type": "code",
   "execution_count": 143,
   "metadata": {},
   "outputs": [
    {
     "data": {
      "text/plain": [
       "'house'"
      ]
     },
     "execution_count": 143,
     "metadata": {},
     "output_type": "execute_result"
    }
   ],
   "source": [
    "predict([*wave2mfcc(filepath)])"
   ]
  },
  {
   "cell_type": "code",
   "execution_count": 67,
   "metadata": {},
   "outputs": [
    {
     "data": {
      "text/plain": [
       "(8000,)"
      ]
     },
     "execution_count": 67,
     "metadata": {},
     "output_type": "execute_result"
    }
   ],
   "source": [
    "wave2mfcc(filepath)[0].shape"
   ]
  },
  {
   "cell_type": "code",
   "execution_count": 68,
   "metadata": {},
   "outputs": [
    {
     "data": {
      "text/plain": [
       "(20, 32)"
      ]
     },
     "execution_count": 68,
     "metadata": {},
     "output_type": "execute_result"
    }
   ],
   "source": [
    "wave2mfcc(filepath)[1].shape"
   ]
  },
  {
   "cell_type": "code",
   "execution_count": null,
   "metadata": {},
   "outputs": [],
   "source": []
  }
 ],
 "metadata": {
  "kernelspec": {
   "display_name": "Python 3",
   "language": "python",
   "name": "python3"
  },
  "language_info": {
   "codemirror_mode": {
    "name": "ipython",
    "version": 3
   },
   "file_extension": ".py",
   "mimetype": "text/x-python",
   "name": "python",
   "nbconvert_exporter": "python",
   "pygments_lexer": "ipython3",
   "version": "3.6.8"
  }
 },
 "nbformat": 4,
 "nbformat_minor": 2
}
